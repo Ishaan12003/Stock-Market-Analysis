{
  "nbformat": 4,
  "nbformat_minor": 0,
  "metadata": {
    "colab": {
      "provenance": []
    },
    "kernelspec": {
      "name": "python3",
      "display_name": "Python 3"
    },
    "language_info": {
      "name": "python"
    }
  },
  "cells": [
    {
      "cell_type": "code",
      "execution_count": 6,
      "metadata": {
        "colab": {
          "base_uri": "https://localhost:8080/"
        },
        "id": "Mo5HVqy7HVcA",
        "outputId": "24bb0f86-b4d0-4127-f378-6c3de486d638"
      },
      "outputs": [
        {
          "output_type": "stream",
          "name": "stdout",
          "text": [
            "Requirement already satisfied: praw in /usr/local/lib/python3.10/dist-packages (7.8.1)\n",
            "Requirement already satisfied: pandas in /usr/local/lib/python3.10/dist-packages (2.2.2)\n",
            "Requirement already satisfied: prawcore<3,>=2.4 in /usr/local/lib/python3.10/dist-packages (from praw) (2.4.0)\n",
            "Requirement already satisfied: update_checker>=0.18 in /usr/local/lib/python3.10/dist-packages (from praw) (0.18.0)\n",
            "Requirement already satisfied: websocket-client>=0.54.0 in /usr/local/lib/python3.10/dist-packages (from praw) (1.8.0)\n",
            "Requirement already satisfied: numpy>=1.22.4 in /usr/local/lib/python3.10/dist-packages (from pandas) (1.26.4)\n",
            "Requirement already satisfied: python-dateutil>=2.8.2 in /usr/local/lib/python3.10/dist-packages (from pandas) (2.8.2)\n",
            "Requirement already satisfied: pytz>=2020.1 in /usr/local/lib/python3.10/dist-packages (from pandas) (2024.2)\n",
            "Requirement already satisfied: tzdata>=2022.7 in /usr/local/lib/python3.10/dist-packages (from pandas) (2024.2)\n",
            "Requirement already satisfied: requests<3.0,>=2.6.0 in /usr/local/lib/python3.10/dist-packages (from prawcore<3,>=2.4->praw) (2.32.3)\n",
            "Requirement already satisfied: six>=1.5 in /usr/local/lib/python3.10/dist-packages (from python-dateutil>=2.8.2->pandas) (1.16.0)\n",
            "Requirement already satisfied: charset-normalizer<4,>=2 in /usr/local/lib/python3.10/dist-packages (from requests<3.0,>=2.6.0->prawcore<3,>=2.4->praw) (3.4.0)\n",
            "Requirement already satisfied: idna<4,>=2.5 in /usr/local/lib/python3.10/dist-packages (from requests<3.0,>=2.6.0->prawcore<3,>=2.4->praw) (3.10)\n",
            "Requirement already satisfied: urllib3<3,>=1.21.1 in /usr/local/lib/python3.10/dist-packages (from requests<3.0,>=2.6.0->prawcore<3,>=2.4->praw) (2.2.3)\n",
            "Requirement already satisfied: certifi>=2017.4.17 in /usr/local/lib/python3.10/dist-packages (from requests<3.0,>=2.6.0->prawcore<3,>=2.4->praw) (2024.8.30)\n"
          ]
        }
      ],
      "source": [
        "\n",
        "pip install praw pandas\n"
      ]
    },
    {
      "cell_type": "code",
      "source": [
        "import praw\n",
        "import pandas as pd\n",
        "from datetime import datetime\n",
        "\n",
        "# Reddit API credentials\n",
        "CLIENT_ID = \"CQY5y2si3N9COrAOsDrbUg\"\n",
        "CLIENT_SECRET = \"qqM2X7Uf_E5kDqcK-POcTMNn26dbsQ\"\n",
        "USER_AGENT = \"Ishaan Burman:v1.0 (by /u/ishaan12003)\"\n",
        "\n",
        "# Initialize PRAW client\n",
        "reddit = praw.Reddit(\n",
        "    client_id=CLIENT_ID,\n",
        "    client_secret=CLIENT_SECRET,\n",
        "    user_agent=USER_AGENT\n",
        ")\n",
        "\n",
        "# Function to scrape posts from a subreddit\n",
        "def scrape_reddit(subreddit_name, limit=100):\n",
        "    \"\"\"\n",
        "    Scrapes posts from a subreddit.\n",
        "    Args:\n",
        "        subreddit_name (str): Name of the subreddit (e.g., \"wallstreetbets\").\n",
        "        limit (int): Number of posts to fetch.\n",
        "    Returns:\n",
        "        DataFrame: A pandas DataFrame containing subreddit posts.\n",
        "    \"\"\"\n",
        "    subreddit = reddit.subreddit(subreddit_name)\n",
        "    posts = []\n",
        "\n",
        "    for post in subreddit.hot(limit=limit):  # Fetch 'hot' posts\n",
        "        posts.append({\n",
        "            \"Title\": post.title,\n",
        "            \"Score\": post.score,\n",
        "            \"Upvote Ratio\": post.upvote_ratio,\n",
        "            \"Total Comments\": post.num_comments,\n",
        "            \"URL\": post.url,\n",
        "            \"Created At\": datetime.utcfromtimestamp(post.created_utc).strftime('%Y-%m-%d %H:%M:%S')\n",
        "        })\n",
        "\n",
        "    return pd.DataFrame(posts)\n",
        "\n",
        "# Example usage\n",
        "if __name__ == \"__main__\":\n",
        "    subreddit_name = \"ETFs\"\n",
        "    limit = 100  # Number of posts to scrape\n",
        "    scraped_data = scrape_reddit(subreddit_name=subreddit_name, limit=limit)\n",
        "\n",
        "    # Save to CSV\n",
        "    current_time = datetime.now().strftime(\"%Y%m%d_%H%M%S\")\n",
        "    filename = f\"reddit_posts_{current_time}.csv\"\n",
        "    scraped_data.to_csv(filename, index=False)\n",
        "    print(f\"Scraped {len(scraped_data)} posts. Data saved to {filename}.\")"
      ],
      "metadata": {
        "colab": {
          "base_uri": "https://localhost:8080/"
        },
        "id": "DAvizeDTYC2Z",
        "outputId": "40e5fe78-f570-4b0f-f58c-669bf78fe762"
      },
      "execution_count": 38,
      "outputs": [
        {
          "output_type": "stream",
          "name": "stderr",
          "text": [
            "WARNING:praw:It appears that you are using PRAW in an asynchronous environment.\n",
            "It is strongly recommended to use Async PRAW: https://asyncpraw.readthedocs.io.\n",
            "See https://praw.readthedocs.io/en/latest/getting_started/multiple_instances.html#discord-bots-and-asynchronous-environments for more info.\n",
            "\n"
          ]
        },
        {
          "output_type": "stream",
          "name": "stdout",
          "text": [
            "Scraped 100 posts. Data saved to reddit_posts_20241204_124058.csv.\n"
          ]
        }
      ]
    }
  ]
}