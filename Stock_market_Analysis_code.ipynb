{
  "nbformat": 4,
  "nbformat_minor": 0,
  "metadata": {
    "colab": {
      "provenance": []
    },
    "kernelspec": {
      "name": "python3",
      "display_name": "Python 3"
    },
    "language_info": {
      "name": "python"
    }
  },
  "cells": [
    {
      "cell_type": "code",
      "execution_count": 1,
      "metadata": {
        "colab": {
          "base_uri": "https://localhost:8080/",
          "height": 127
        },
        "id": "W8-y45tSzBYW",
        "outputId": "c0674f01-8acf-4a89-c45c-23bb54192161"
      },
      "outputs": [
        {
          "output_type": "display_data",
          "data": {
            "text/plain": [
              "<IPython.core.display.HTML object>"
            ],
            "text/html": [
              "\n",
              "     <input type=\"file\" id=\"files-8b09b42a-17ff-4a45-8561-74236ebe501e\" name=\"files[]\" multiple disabled\n",
              "        style=\"border:none\" />\n",
              "     <output id=\"result-8b09b42a-17ff-4a45-8561-74236ebe501e\">\n",
              "      Upload widget is only available when the cell has been executed in the\n",
              "      current browser session. Please rerun this cell to enable.\n",
              "      </output>\n",
              "      <script>// Copyright 2017 Google LLC\n",
              "//\n",
              "// Licensed under the Apache License, Version 2.0 (the \"License\");\n",
              "// you may not use this file except in compliance with the License.\n",
              "// You may obtain a copy of the License at\n",
              "//\n",
              "//      http://www.apache.org/licenses/LICENSE-2.0\n",
              "//\n",
              "// Unless required by applicable law or agreed to in writing, software\n",
              "// distributed under the License is distributed on an \"AS IS\" BASIS,\n",
              "// WITHOUT WARRANTIES OR CONDITIONS OF ANY KIND, either express or implied.\n",
              "// See the License for the specific language governing permissions and\n",
              "// limitations under the License.\n",
              "\n",
              "/**\n",
              " * @fileoverview Helpers for google.colab Python module.\n",
              " */\n",
              "(function(scope) {\n",
              "function span(text, styleAttributes = {}) {\n",
              "  const element = document.createElement('span');\n",
              "  element.textContent = text;\n",
              "  for (const key of Object.keys(styleAttributes)) {\n",
              "    element.style[key] = styleAttributes[key];\n",
              "  }\n",
              "  return element;\n",
              "}\n",
              "\n",
              "// Max number of bytes which will be uploaded at a time.\n",
              "const MAX_PAYLOAD_SIZE = 100 * 1024;\n",
              "\n",
              "function _uploadFiles(inputId, outputId) {\n",
              "  const steps = uploadFilesStep(inputId, outputId);\n",
              "  const outputElement = document.getElementById(outputId);\n",
              "  // Cache steps on the outputElement to make it available for the next call\n",
              "  // to uploadFilesContinue from Python.\n",
              "  outputElement.steps = steps;\n",
              "\n",
              "  return _uploadFilesContinue(outputId);\n",
              "}\n",
              "\n",
              "// This is roughly an async generator (not supported in the browser yet),\n",
              "// where there are multiple asynchronous steps and the Python side is going\n",
              "// to poll for completion of each step.\n",
              "// This uses a Promise to block the python side on completion of each step,\n",
              "// then passes the result of the previous step as the input to the next step.\n",
              "function _uploadFilesContinue(outputId) {\n",
              "  const outputElement = document.getElementById(outputId);\n",
              "  const steps = outputElement.steps;\n",
              "\n",
              "  const next = steps.next(outputElement.lastPromiseValue);\n",
              "  return Promise.resolve(next.value.promise).then((value) => {\n",
              "    // Cache the last promise value to make it available to the next\n",
              "    // step of the generator.\n",
              "    outputElement.lastPromiseValue = value;\n",
              "    return next.value.response;\n",
              "  });\n",
              "}\n",
              "\n",
              "/**\n",
              " * Generator function which is called between each async step of the upload\n",
              " * process.\n",
              " * @param {string} inputId Element ID of the input file picker element.\n",
              " * @param {string} outputId Element ID of the output display.\n",
              " * @return {!Iterable<!Object>} Iterable of next steps.\n",
              " */\n",
              "function* uploadFilesStep(inputId, outputId) {\n",
              "  const inputElement = document.getElementById(inputId);\n",
              "  inputElement.disabled = false;\n",
              "\n",
              "  const outputElement = document.getElementById(outputId);\n",
              "  outputElement.innerHTML = '';\n",
              "\n",
              "  const pickedPromise = new Promise((resolve) => {\n",
              "    inputElement.addEventListener('change', (e) => {\n",
              "      resolve(e.target.files);\n",
              "    });\n",
              "  });\n",
              "\n",
              "  const cancel = document.createElement('button');\n",
              "  inputElement.parentElement.appendChild(cancel);\n",
              "  cancel.textContent = 'Cancel upload';\n",
              "  const cancelPromise = new Promise((resolve) => {\n",
              "    cancel.onclick = () => {\n",
              "      resolve(null);\n",
              "    };\n",
              "  });\n",
              "\n",
              "  // Wait for the user to pick the files.\n",
              "  const files = yield {\n",
              "    promise: Promise.race([pickedPromise, cancelPromise]),\n",
              "    response: {\n",
              "      action: 'starting',\n",
              "    }\n",
              "  };\n",
              "\n",
              "  cancel.remove();\n",
              "\n",
              "  // Disable the input element since further picks are not allowed.\n",
              "  inputElement.disabled = true;\n",
              "\n",
              "  if (!files) {\n",
              "    return {\n",
              "      response: {\n",
              "        action: 'complete',\n",
              "      }\n",
              "    };\n",
              "  }\n",
              "\n",
              "  for (const file of files) {\n",
              "    const li = document.createElement('li');\n",
              "    li.append(span(file.name, {fontWeight: 'bold'}));\n",
              "    li.append(span(\n",
              "        `(${file.type || 'n/a'}) - ${file.size} bytes, ` +\n",
              "        `last modified: ${\n",
              "            file.lastModifiedDate ? file.lastModifiedDate.toLocaleDateString() :\n",
              "                                    'n/a'} - `));\n",
              "    const percent = span('0% done');\n",
              "    li.appendChild(percent);\n",
              "\n",
              "    outputElement.appendChild(li);\n",
              "\n",
              "    const fileDataPromise = new Promise((resolve) => {\n",
              "      const reader = new FileReader();\n",
              "      reader.onload = (e) => {\n",
              "        resolve(e.target.result);\n",
              "      };\n",
              "      reader.readAsArrayBuffer(file);\n",
              "    });\n",
              "    // Wait for the data to be ready.\n",
              "    let fileData = yield {\n",
              "      promise: fileDataPromise,\n",
              "      response: {\n",
              "        action: 'continue',\n",
              "      }\n",
              "    };\n",
              "\n",
              "    // Use a chunked sending to avoid message size limits. See b/62115660.\n",
              "    let position = 0;\n",
              "    do {\n",
              "      const length = Math.min(fileData.byteLength - position, MAX_PAYLOAD_SIZE);\n",
              "      const chunk = new Uint8Array(fileData, position, length);\n",
              "      position += length;\n",
              "\n",
              "      const base64 = btoa(String.fromCharCode.apply(null, chunk));\n",
              "      yield {\n",
              "        response: {\n",
              "          action: 'append',\n",
              "          file: file.name,\n",
              "          data: base64,\n",
              "        },\n",
              "      };\n",
              "\n",
              "      let percentDone = fileData.byteLength === 0 ?\n",
              "          100 :\n",
              "          Math.round((position / fileData.byteLength) * 100);\n",
              "      percent.textContent = `${percentDone}% done`;\n",
              "\n",
              "    } while (position < fileData.byteLength);\n",
              "  }\n",
              "\n",
              "  // All done.\n",
              "  yield {\n",
              "    response: {\n",
              "      action: 'complete',\n",
              "    }\n",
              "  };\n",
              "}\n",
              "\n",
              "scope.google = scope.google || {};\n",
              "scope.google.colab = scope.google.colab || {};\n",
              "scope.google.colab._files = {\n",
              "  _uploadFiles,\n",
              "  _uploadFilesContinue,\n",
              "};\n",
              "})(self);\n",
              "</script> "
            ]
          },
          "metadata": {}
        },
        {
          "output_type": "stream",
          "name": "stdout",
          "text": [
            "Saving reddit stocks csv.zip to reddit stocks csv.zip\n",
            "Files extracted to:  ['__MACOSX', 'reddit stocks csv']\n",
            "['reddit_3.csv', 'reddit_7.csv', 'reddit_2.csv', 'reddit_4.csv', 'reddit_5.csv', 'reddit_30.csv', 'reddit_15.csv', 'reddit_9.csv', 'reddit_6.csv', 'reddit_19.csv', 'reddit_12.csv', '.DS_Store', 'reddit_17.csv', 'reddit_25.csv', 'reddit_16.csv', 'reddit_13.csv', 'reddit_11.csv', 'reddit_23.csv', 'reddit_20.csv', 'reddit_28.csv', 'reddit_26.csv', 'reddit_1.csv', 'reddit_10.csv', 'reddit_24.csv', 'reddit_27.csv', 'reddit_22.csv', 'reddit_8.csv', 'reddit_21.csv', 'reddit_29.csv', 'reddit_18.csv', 'reddit_14.csv']\n"
          ]
        }
      ],
      "source": [
        "import os\n",
        "import zipfile\n",
        "from google.colab import files\n",
        "\n",
        "# Upload the ZIP file\n",
        "uploaded = files.upload()\n",
        "\n",
        "# Extract the ZIP file\n",
        "for filename in uploaded.keys():\n",
        "    with zipfile.ZipFile(filename, 'r') as zip_ref:\n",
        "        zip_ref.extractall(\"unzipped_folder\") # Extract to 'unzipped_folder'\n",
        "\n",
        "# Verify extraction\n",
        "print(\"Files extracted to: \", os.listdir(\"unzipped_folder\"))\n",
        "\n",
        "# Update extracted_folder with the correct path after examining the contents of \"unzipped_folder\"\n",
        "extracted_folder = \"unzipped_folder/reddit stocks csv\" # Assuming 'reddit stocks csv' is inside \"unzipped_folder\"\n",
        "\n",
        "# Check if the folder exists before proceeding.\n",
        "if os.path.exists(extracted_folder) and os.path.isdir(extracted_folder):\n",
        "    files_in_folder = os.listdir(extracted_folder)\n",
        "    print(files_in_folder)\n",
        "else:\n",
        "    print(f\"Error: Folder '{extracted_folder}' not found. Please check the extracted files.\")"
      ]
    },
    {
      "cell_type": "code",
      "source": [
        "import pandas as pd\n",
        "\n",
        "# Path to the extracted folder\n",
        "folder_path = '/content/unzipped_folder/reddit stocks csv'\n",
        "\n",
        "# List of CSV files in the folder\n",
        "csv_files = [os.path.join(folder_path, file) for file in os.listdir(folder_path) if file.endswith('.csv')]\n",
        "\n",
        "# Initialize an empty list to store dataframes\n",
        "dataframes = []\n",
        "\n",
        "# Read and append each CSV to the list\n",
        "for file in csv_files:\n",
        "    try:\n",
        "        df = pd.read_csv(file)\n",
        "        dataframes.append(df)\n",
        "    except Exception as e:\n",
        "        print(f\"Error reading {file}: {e}\")\n",
        "\n",
        "# Merge all dataframes\n",
        "merged_df = pd.concat(dataframes, ignore_index=True)\n",
        "\n",
        "# Save the merged dataframe\n",
        "merged_file = 'merged_reddit_stocks.csv'\n",
        "merged_df.to_csv(merged_file, index=False)\n",
        "\n",
        "print(f\"Merged file saved as: {merged_file}\")\n"
      ],
      "metadata": {
        "colab": {
          "base_uri": "https://localhost:8080/"
        },
        "id": "SES83PYTzNuC",
        "outputId": "09f48231-fdef-402c-c31a-820fa03b9932"
      },
      "execution_count": 2,
      "outputs": [
        {
          "output_type": "stream",
          "name": "stdout",
          "text": [
            "Merged file saved as: merged_reddit_stocks.csv\n"
          ]
        }
      ]
    },
    {
      "source": [
        "import pandas as pd\n",
        "import re\n",
        "from collections import Counter\n",
        "\n",
        "# Load the processed dataset\n",
        "file_path = \"/content/updated_dataset_with_sentiments.csv\"  # Replace with your sentiment-processed file\n",
        "data = pd.read_csv(file_path)\n",
        "\n",
        "# Feature 1: Extract stock mentions\n",
        "def extract_stock_mentions(title):\n",
        "    stock_symbols = re.findall(r'\\$[A-Za-z]+', title)  # Extract stock symbols starting with $\n",
        "    return stock_symbols\n",
        "\n",
        "# Add a new column for stock mentions\n",
        "data['Stock_Mentions'] = data['Title'].apply(extract_stock_mentions)\n",
        "\n",
        "# Count the frequency of mentions\n",
        "all_mentions = [symbol for mentions in data['Stock_Mentions'] for symbol in mentions]\n",
        "mention_counts = Counter(all_mentions)\n",
        "\n",
        "print(\"=== Top 10 Mentioned Stocks ===\")\n",
        "top_10_mentions = mention_counts.most_common(10)\n",
        "for symbol, count in top_10_mentions:\n",
        "    print(f\"{symbol}: {count} mentions\")\n",
        "\n",
        "# Feature 2: Average Sentiment and Post Volume Per Day\n",
        "# Convert 'Created At' to datetime\n",
        "# Changed the format string to match the actual date format in your data\n",
        "data['Date'] = pd.to_datetime(data['Created At'], format='%Y-%m-%d %H:%M:%S', errors='coerce')\n",
        "# The 'errors='coerce'' argument handles any dates that still don't match by setting them to NaT (Not a Time)\n",
        "\n",
        "# Calculate average sentiment and post volume per day\n",
        "daily_sentiment = data.groupby(data['Date'].dt.date).agg(\n",
        "    Avg_Sentiment=('Sentiment_Polarity', 'mean'),\n",
        "    Post_Volume=('Title', 'count')\n",
        ").reset_index()\n",
        "\n",
        "print(\"\\n=== Daily Sentiment Trends ===\")\n",
        "print(daily_sentiment.head())\n",
        "\n",
        "# Feature 3: Sentiment Trends by Stock Symbol\n",
        "def calculate_sentiment_by_symbol(data):\n",
        "    symbol_sentiment = {}\n",
        "    for index, row in data.iterrows():\n",
        "        for symbol in row['Stock_Mentions']:\n",
        "            if symbol not in symbol_sentiment:\n",
        "                symbol_sentiment[symbol] = []\n",
        "            symbol_sentiment[symbol].append(row['Sentiment_Polarity'])\n",
        "    return {symbol: sum(sentiments)/len(sentiments) for symbol, sentiments in symbol_sentiment.items()}\n",
        "\n",
        "symbol_sentiment = calculate_sentiment_by_symbol(data)\n",
        "\n",
        "print(\"\\n=== Sentiment Trend by Stock Symbol ===\")\n",
        "for symbol, avg_sentiment in list(symbol_sentiment.items())[:10]:  # Show only top 10 for brevity\n",
        "    print(f\"{symbol}: Average Sentiment = {avg_sentiment:.2f}\")\n",
        "\n",
        "# Save enriched dataset\n",
        "output_file = \"enriched_dataset_with_features.csv\"\n",
        "data.to_csv(output_file, index=False)\n",
        "\n",
        "print(f\"\\nFeature extraction completed. Enriched dataset saved to {output_file}.\")"
      ],
      "cell_type": "code",
      "metadata": {
        "colab": {
          "base_uri": "https://localhost:8080/"
        },
        "id": "699m2I8CjSl4",
        "outputId": "e66ac731-b49c-4ed2-aeef-5bba902da63c"
      },
      "execution_count": 40,
      "outputs": [
        {
          "output_type": "stream",
          "name": "stdout",
          "text": [
            "=== Top 10 Mentioned Stocks ===\n",
            "$SPY: 12 mentions\n",
            "$SPX: 11 mentions\n",
            "$AAPL: 8 mentions\n",
            "$MSFT: 3 mentions\n",
            "$NVDA: 3 mentions\n",
            "$PL: 3 mentions\n",
            "$GME: 3 mentions\n",
            "$CABA: 2 mentions\n",
            "$MYNZ: 2 mentions\n",
            "$RTX: 2 mentions\n",
            "\n",
            "=== Daily Sentiment Trends ===\n",
            "         Date  Avg_Sentiment  Post_Volume\n",
            "0  2020-06-01       0.000000            1\n",
            "1  2021-02-15       0.357143            1\n",
            "2  2021-03-26       0.468182            1\n",
            "3  2021-09-25       0.000000            1\n",
            "4  2022-03-17       0.000000            1\n",
            "\n",
            "=== Sentiment Trend by Stock Symbol ===\n",
            "$CABA: Average Sentiment = 0.00\n",
            "$BGM: Average Sentiment = -0.05\n",
            "$AZI: Average Sentiment = 0.80\n",
            "$MYNZ: Average Sentiment = 0.06\n",
            "$RTX: Average Sentiment = 0.00\n",
            "$RDDT: Average Sentiment = 0.03\n",
            "$EL: Average Sentiment = -0.15\n",
            "$AKTS: Average Sentiment = 0.35\n",
            "$MDAI: Average Sentiment = 0.03\n",
            "$CCO: Average Sentiment = 0.00\n",
            "\n",
            "Feature extraction completed. Enriched dataset saved to enriched_dataset_with_features.csv.\n"
          ]
        }
      ]
    },
    {
      "cell_type": "code",
      "source": [
        "import pandas as pd\n",
        "import numpy as np\n",
        "import matplotlib.pyplot as plt\n",
        "import seaborn as sns\n",
        "from sklearn.feature_extraction.text import TfidfVectorizer\n",
        "from sklearn.preprocessing import StandardScaler\n",
        "from sklearn.model_selection import train_test_split, GridSearchCV\n",
        "from sklearn.ensemble import RandomForestClassifier\n",
        "from sklearn.metrics import accuracy_score, precision_score, recall_score, f1_score, confusion_matrix, roc_auc_score\n",
        "from tensorflow.keras.models import Sequential\n",
        "from tensorflow.keras.layers import Dense, Dropout\n",
        "import nltk\n",
        "from nltk.corpus import stopwords\n",
        "from nltk.stem import WordNetLemmatizer\n",
        "import re\n",
        "nltk.download('stopwords')\n",
        "nltk.download('wordnet')\n"
      ],
      "metadata": {
        "colab": {
          "base_uri": "https://localhost:8080/"
        },
        "id": "gh6ecNtU2kxV",
        "outputId": "40959cb1-f93b-4908-f065-a8455a63bb8c"
      },
      "execution_count": 50,
      "outputs": [
        {
          "output_type": "stream",
          "name": "stderr",
          "text": [
            "[nltk_data] Downloading package stopwords to /root/nltk_data...\n",
            "[nltk_data]   Unzipping corpora/stopwords.zip.\n",
            "[nltk_data] Downloading package wordnet to /root/nltk_data...\n"
          ]
        },
        {
          "output_type": "execute_result",
          "data": {
            "text/plain": [
              "True"
            ]
          },
          "metadata": {},
          "execution_count": 50
        }
      ]
    },
    {
      "cell_type": "code",
      "source": [
        "# Assuming your dataset is in CSV format\n",
        "df = pd.read_csv('/content/updated_dataset_with_sentiments.csv')\n"
      ],
      "metadata": {
        "id": "16pt_T0X2-9y"
      },
      "execution_count": 51,
      "outputs": []
    },
    {
      "source": [
        "# Initialize lemmatizer and stop words\n",
        "lemmatizer = WordNetLemmatizer()\n",
        "stop_words = set(stopwords.words('english'))\n",
        "\n",
        "def preprocess_text(text):\n",
        "    # Check if the input is a string\n",
        "    if isinstance(text, str):\n",
        "        # Remove URLs\n",
        "        text = re.sub(r'http\\S+', '', text)\n",
        "        # Remove non-alphabetic characters\n",
        "        text = re.sub(r'[^a-zA-Z\\s]', '', text)\n",
        "        # Convert to lowercase\n",
        "        text = text.lower()\n",
        "        # Tokenize and lemmatize\n",
        "        tokens = text.split()\n",
        "        tokens = [lemmatizer.lemmatize(word) for word in tokens if word not in stop_words]\n",
        "        return ' '.join(tokens)\n",
        "    else:\n",
        "        # Handle non-string values (e.g., return an empty string or NaN)\n",
        "        return ''  # Or you could return np.nan\n",
        "\n",
        "# Apply preprocessing to the Cleaned_Title column\n",
        "df['Cleaned_Title'] = df['Cleaned_Title'].apply(preprocess_text)"
      ],
      "cell_type": "code",
      "metadata": {
        "id": "cPOWwDfl3PXO"
      },
      "execution_count": 53,
      "outputs": []
    },
    {
      "cell_type": "code",
      "source": [
        "vectorizer = TfidfVectorizer(max_features=5000)\n",
        "X_text = vectorizer.fit_transform(df['Cleaned_Title'])\n"
      ],
      "metadata": {
        "id": "S47GQmMW3RbI"
      },
      "execution_count": 54,
      "outputs": []
    },
    {
      "cell_type": "code",
      "source": [
        "scaler = StandardScaler()\n",
        "X_numeric = scaler.fit_transform(df[['Score', 'Upvote Ratio', 'Total Comments', 'Sentiment_Polarity']])\n"
      ],
      "metadata": {
        "id": "EA2lEwZG3T8m"
      },
      "execution_count": 56,
      "outputs": []
    },
    {
      "cell_type": "code",
      "source": [
        "X = np.hstack([X_text.toarray(), X_numeric])\n",
        "y = df['Sentiment_Category']  # This should be the target for stock movement (e.g., 'Positive', 'Negative', 'Neutral')\n"
      ],
      "metadata": {
        "id": "0gYdKhIQ3xsQ"
      },
      "execution_count": 57,
      "outputs": []
    },
    {
      "cell_type": "code",
      "source": [
        "X_train, X_test, y_train, y_test = train_test_split(X, y, test_size=0.2, random_state=42)\n"
      ],
      "metadata": {
        "id": "fG9Ke9lG332v"
      },
      "execution_count": 58,
      "outputs": []
    },
    {
      "cell_type": "code",
      "source": [
        "# Initialize Random Forest Classifier\n",
        "rf_model = RandomForestClassifier(n_estimators=100, random_state=42)\n",
        "rf_model.fit(X_train, y_train)\n",
        "\n",
        "# Predictions\n",
        "y_pred_rf = rf_model.predict(X_test)\n",
        "\n",
        "# Evaluation Metrics\n",
        "accuracy = accuracy_score(y_test, y_pred_rf)\n",
        "precision = precision_score(y_test, y_pred_rf, average='weighted')\n",
        "recall = recall_score(y_test, y_pred_rf, average='weighted')\n",
        "f1 = f1_score(y_test, y_pred_rf, average='weighted')\n",
        "cm = confusion_matrix(y_test, y_pred_rf)\n",
        "\n",
        "print(f\"Accuracy: {accuracy:.2f}\")\n",
        "print(f\"Precision: {precision:.2f}\")\n",
        "print(f\"Recall: {recall:.2f}\")\n",
        "print(f\"F1 Score: {f1:.2f}\")\n",
        "print(f\"Confusion Matrix:\\n {cm}\")\n"
      ],
      "metadata": {
        "colab": {
          "base_uri": "https://localhost:8080/"
        },
        "id": "PcqW5Jag36TO",
        "outputId": "379e85dc-3818-4c40-8e6e-5dab86b5d320"
      },
      "execution_count": 59,
      "outputs": [
        {
          "output_type": "stream",
          "name": "stdout",
          "text": [
            "Accuracy: 0.98\n",
            "Precision: 0.98\n",
            "Recall: 0.98\n",
            "F1 Score: 0.98\n",
            "Confusion Matrix:\n",
            " [[ 37   7   0]\n",
            " [  0 273   0]\n",
            " [  0   0 103]]\n"
          ]
        }
      ]
    },
    {
      "cell_type": "code",
      "source": [
        "# Import LabelEncoder\n",
        "from sklearn.preprocessing import LabelEncoder\n",
        "\n",
        "# Create a LabelEncoder object\n",
        "label_encoder = LabelEncoder()\n",
        "\n",
        "# Fit the encoder to your target variable and transform it\n",
        "y_train = label_encoder.fit_transform(y_train)\n",
        "y_test = label_encoder.transform(y_test)\n",
        "\n"
      ],
      "metadata": {
        "id": "fWDUE2Y04Uto"
      },
      "execution_count": 62,
      "outputs": []
    },
    {
      "cell_type": "code",
      "source": [
        "# Build a Sequential model\n",
        "model = Sequential()\n",
        "\n",
        "# Input layer\n",
        "model.add(Dense(128, activation='relu', input_shape=(X_train.shape[1],)))\n",
        "\n",
        "# Hidden layers\n",
        "model.add(Dense(64, activation='relu'))\n",
        "model.add(Dropout(0.3))  # Dropout to prevent overfitting\n",
        "model.add(Dense(32, activation='relu'))\n",
        "model.add(Dropout(0.3))\n",
        "\n",
        "# Output layer\n",
        "model.add(Dense(3, activation='softmax'))  # Assuming three classes (Positive, Neutral, Negative)\n",
        "\n",
        "# Compile model\n",
        "model.compile(optimizer='adam', loss='sparse_categorical_crossentropy', metrics=['accuracy'])\n",
        "\n",
        "# Train model\n",
        "history = model.fit(X_train, y_train, epochs=10, batch_size=32, validation_split=0.2)\n",
        "\n",
        "# Predictions on test set\n",
        "y_pred_nn = model.predict(X_test)\n",
        "y_pred_nn_classes = np.argmax(y_pred_nn, axis=1)\n",
        "\n",
        "# Evaluate the neural network model\n",
        "accuracy_nn = accuracy_score(y_test, y_pred_nn_classes)\n",
        "precision_nn = precision_score(y_test, y_pred_nn_classes, average='weighted')\n",
        "recall_nn = recall_score(y_test, y_pred_nn_classes, average='weighted')\n",
        "f1_nn = f1_score(y_test, y_pred_nn_classes, average='weighted')\n",
        "\n",
        "print(f\"Neural Network - Accuracy: {accuracy_nn:.2f}\")\n",
        "print(f\"Neural Network - Precision: {precision_nn:.2f}\")\n",
        "print(f\"Neural Network - Recall: {recall_nn:.2f}\")\n",
        "print(f\"Neural Network - F1 Score: {f1_nn:.2f}\")\n"
      ],
      "metadata": {
        "colab": {
          "base_uri": "https://localhost:8080/"
        },
        "id": "cg-9ngyy4ABK",
        "outputId": "5925835b-63fa-4493-9d38-5e0258afe53a"
      },
      "execution_count": 63,
      "outputs": [
        {
          "output_type": "stream",
          "name": "stdout",
          "text": [
            "Epoch 1/10\n"
          ]
        },
        {
          "output_type": "stream",
          "name": "stderr",
          "text": [
            "/usr/local/lib/python3.10/dist-packages/keras/src/layers/core/dense.py:87: UserWarning: Do not pass an `input_shape`/`input_dim` argument to a layer. When using Sequential models, prefer using an `Input(shape)` object as the first layer in the model instead.\n",
            "  super().__init__(activity_regularizer=activity_regularizer, **kwargs)\n"
          ]
        },
        {
          "output_type": "stream",
          "name": "stdout",
          "text": [
            "\u001b[1m42/42\u001b[0m \u001b[32m━━━━━━━━━━━━━━━━━━━━\u001b[0m\u001b[37m\u001b[0m \u001b[1m2s\u001b[0m 19ms/step - accuracy: 0.6200 - loss: 1.0035 - val_accuracy: 0.7649 - val_loss: 0.6634\n",
            "Epoch 2/10\n",
            "\u001b[1m42/42\u001b[0m \u001b[32m━━━━━━━━━━━━━━━━━━━━\u001b[0m\u001b[37m\u001b[0m \u001b[1m1s\u001b[0m 12ms/step - accuracy: 0.8304 - loss: 0.5071 - val_accuracy: 0.8661 - val_loss: 0.3379\n",
            "Epoch 3/10\n",
            "\u001b[1m42/42\u001b[0m \u001b[32m━━━━━━━━━━━━━━━━━━━━\u001b[0m\u001b[37m\u001b[0m \u001b[1m1s\u001b[0m 17ms/step - accuracy: 0.9032 - loss: 0.2112 - val_accuracy: 0.9196 - val_loss: 0.2190\n",
            "Epoch 4/10\n",
            "\u001b[1m42/42\u001b[0m \u001b[32m━━━━━━━━━━━━━━━━━━━━\u001b[0m\u001b[37m\u001b[0m \u001b[1m2s\u001b[0m 26ms/step - accuracy: 0.9772 - loss: 0.0791 - val_accuracy: 0.9435 - val_loss: 0.1814\n",
            "Epoch 5/10\n",
            "\u001b[1m42/42\u001b[0m \u001b[32m━━━━━━━━━━━━━━━━━━━━\u001b[0m\u001b[37m\u001b[0m \u001b[1m1s\u001b[0m 19ms/step - accuracy: 0.9964 - loss: 0.0330 - val_accuracy: 0.9375 - val_loss: 0.2170\n",
            "Epoch 6/10\n",
            "\u001b[1m42/42\u001b[0m \u001b[32m━━━━━━━━━━━━━━━━━━━━\u001b[0m\u001b[37m\u001b[0m \u001b[1m1s\u001b[0m 14ms/step - accuracy: 0.9987 - loss: 0.0148 - val_accuracy: 0.9494 - val_loss: 0.1949\n",
            "Epoch 7/10\n",
            "\u001b[1m42/42\u001b[0m \u001b[32m━━━━━━━━━━━━━━━━━━━━\u001b[0m\u001b[37m\u001b[0m \u001b[1m1s\u001b[0m 14ms/step - accuracy: 0.9986 - loss: 0.0113 - val_accuracy: 0.9494 - val_loss: 0.2066\n",
            "Epoch 8/10\n",
            "\u001b[1m42/42\u001b[0m \u001b[32m━━━━━━━━━━━━━━━━━━━━\u001b[0m\u001b[37m\u001b[0m \u001b[1m1s\u001b[0m 14ms/step - accuracy: 0.9996 - loss: 0.0059 - val_accuracy: 0.9583 - val_loss: 0.1866\n",
            "Epoch 9/10\n",
            "\u001b[1m42/42\u001b[0m \u001b[32m━━━━━━━━━━━━━━━━━━━━\u001b[0m\u001b[37m\u001b[0m \u001b[1m1s\u001b[0m 18ms/step - accuracy: 1.0000 - loss: 0.0042 - val_accuracy: 0.9524 - val_loss: 0.2255\n",
            "Epoch 10/10\n",
            "\u001b[1m42/42\u001b[0m \u001b[32m━━━━━━━━━━━━━━━━━━━━\u001b[0m\u001b[37m\u001b[0m \u001b[1m1s\u001b[0m 19ms/step - accuracy: 1.0000 - loss: 0.0031 - val_accuracy: 0.9524 - val_loss: 0.2408\n",
            "\u001b[1m14/14\u001b[0m \u001b[32m━━━━━━━━━━━━━━━━━━━━\u001b[0m\u001b[37m\u001b[0m \u001b[1m0s\u001b[0m 8ms/step\n",
            "Neural Network - Accuracy: 0.96\n",
            "Neural Network - Precision: 0.96\n",
            "Neural Network - Recall: 0.96\n",
            "Neural Network - F1 Score: 0.96\n"
          ]
        }
      ]
    },
    {
      "cell_type": "code",
      "source": [
        "from sklearn.model_selection import GridSearchCV\n",
        "\n",
        "param_grid = {\n",
        "    'n_estimators': [50, 100, 200],\n",
        "    'max_depth': [None, 10, 20, 30],\n",
        "    'min_samples_split': [2, 5, 10]\n",
        "}\n",
        "\n",
        "grid_search = GridSearchCV(estimator=rf_model, param_grid=param_grid, cv=5, scoring='accuracy')\n",
        "grid_search.fit(X_train, y_train)\n",
        "\n",
        "print(\"Best parameters found: \", grid_search.best_params_)\n"
      ],
      "metadata": {
        "colab": {
          "base_uri": "https://localhost:8080/"
        },
        "id": "LYOdFYEM4gmk",
        "outputId": "0b4fa13e-05b3-4e90-f7dc-9987cc007952"
      },
      "execution_count": 64,
      "outputs": [
        {
          "output_type": "stream",
          "name": "stdout",
          "text": [
            "Best parameters found:  {'max_depth': None, 'min_samples_split': 10, 'n_estimators': 100}\n"
          ]
        }
      ]
    },
    {
      "cell_type": "code",
      "source": [
        "import seaborn as sns\n",
        "import matplotlib.pyplot as plt\n",
        "\n",
        "sns.heatmap(cm, annot=True, fmt='d', cmap='Blues')\n",
        "plt.title('Confusion Matrix - Random Forest')\n",
        "plt.xlabel('Predicted Label')\n",
        "plt.ylabel('True Label')\n",
        "plt.show()\n"
      ],
      "metadata": {
        "colab": {
          "base_uri": "https://localhost:8080/",
          "height": 472
        },
        "id": "ocEoxM646WgH",
        "outputId": "e8d5f943-9d38-4afc-955b-2c25b993337e"
      },
      "execution_count": 65,
      "outputs": [
        {
          "output_type": "display_data",
          "data": {
            "text/plain": [
              "<Figure size 640x480 with 2 Axes>"
            ],
            "image/png": "[encoded data removed]"
          },
          "metadata": {}
        }
      ]
    },
    {
      "cell_type": "code",
      "source": [
        "plt.plot(history.history['accuracy'], label='train accuracy')\n",
        "plt.plot(history.history['val_accuracy'], label='validation accuracy')\n",
        "plt.title('Model Accuracy')\n",
        "plt.ylabel('Accuracy')\n",
        "plt.xlabel('Epoch')\n",
        "plt.legend(loc='upper left')\n",
        "plt.show()\n"
      ],
      "metadata": {
        "colab": {
          "base_uri": "https://localhost:8080/",
          "height": 472
        },
        "id": "Him5VJwY6aCJ",
        "outputId": "b7b44641-3a47-43a1-b666-581636e69887"
      },
      "execution_count": 66,
      "outputs": [
        {
          "output_type": "display_data",
          "data": {
            "text/plain": [
              "<Figure size 640x480 with 1 Axes>"
            ],
            "image/png": "[encoded data removed]"
          },
          "metadata": {}
        }
      ]
    },
    {
      "cell_type": "code",
      "source": [
        "import matplotlib.pyplot as plt\n",
        "import numpy as np\n",
        "\n",
        "# Define the metrics for both models\n",
        "metrics = ['Accuracy', 'Precision', 'Recall', 'F1 Score']\n",
        "\n",
        "# Random Forest scores\n",
        "rf_scores = [accuracy, precision, recall, f1]\n",
        "\n",
        "# Neural Network scores\n",
        "nn_scores = [accuracy_nn, precision_nn, recall_nn, f1_nn]\n",
        "\n",
        "# Set the width for bars\n",
        "bar_width = 0.35\n",
        "\n",
        "# Set the position of bars\n",
        "r1 = np.arange(len(metrics))\n",
        "r2 = [x + bar_width for x in r1]\n",
        "\n",
        "# Create the bar plot\n",
        "plt.figure(figsize=(10, 6))\n",
        "\n",
        "plt.bar(r1, rf_scores, color='b', width=bar_width, edgecolor='grey', label='Random Forest')\n",
        "plt.bar(r2, nn_scores, color='g', width=bar_width, edgecolor='grey', label='Neural Network')\n",
        "\n",
        "# Add labels, title, and axis names\n",
        "plt.xlabel('Metrics', fontweight='bold')\n",
        "plt.ylabel('Score', fontweight='bold')\n",
        "plt.title('Comparison of Random Forest and Neural Network Models')\n",
        "plt.xticks([r + bar_width / 2 for r in range(len(metrics))], metrics)\n",
        "\n",
        "# Add a legend\n",
        "plt.legend()\n",
        "\n",
        "# Show the plot\n",
        "plt.show()\n"
      ],
      "metadata": {
        "colab": {
          "base_uri": "https://localhost:8080/",
          "height": 564
        },
        "id": "SuY5epF96uQ8",
        "outputId": "a885ec08-478f-48b3-ac7d-3dd328145983"
      },
      "execution_count": 67,
      "outputs": [
        {
          "output_type": "display_data",
          "data": {
            "text/plain": [
              "<Figure size 1000x600 with 1 Axes>"
            ],
            "image/png": "[encoded data removed]"
          },
          "metadata": {}
        }
      ]
    }
  ]
}